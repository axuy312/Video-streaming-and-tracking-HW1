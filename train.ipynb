{
 "cells": [
  {
   "cell_type": "code",
   "execution_count": null,
   "id": "b8d84e25",
   "metadata": {
    "colab": {
     "base_uri": "https://localhost:8080/"
    },
    "executionInfo": {
     "elapsed": 26620,
     "status": "ok",
     "timestamp": 1664677205439,
     "user": {
      "displayName": "昇暉王",
      "userId": "16691022060123284459"
     },
     "user_tz": -480
    },
    "id": "b8d84e25",
    "outputId": "392d7e79-0de7-49e6-969b-e15c666e1224"
   },
   "outputs": [],
   "source": [
    "# from google.colab import drive\n",
    "# drive.mount('/content/drive')"
   ]
  },
  {
   "cell_type": "code",
   "execution_count": null,
   "id": "F_rCfFjvDQ6z",
   "metadata": {
    "colab": {
     "base_uri": "https://localhost:8080/"
    },
    "executionInfo": {
     "elapsed": 28263,
     "status": "ok",
     "timestamp": 1664677233699,
     "user": {
      "displayName": "昇暉王",
      "userId": "16691022060123284459"
     },
     "user_tz": -480
    },
    "id": "F_rCfFjvDQ6z",
    "outputId": "c14548e9-a9c5-4518-9a37-df65a97bbd50"
   },
   "outputs": [],
   "source": [
    "# %cd drive/MyDrive/hw1/\n",
    "# !cp -r /content/drive/MyDrive/hw1 /content/hw1\n",
    "# %cd /content/hw1\n",
    "# !ls"
   ]
  },
  {
   "cell_type": "code",
   "execution_count": null,
   "id": "dPvnGcTyBckP",
   "metadata": {
    "executionInfo": {
     "elapsed": 3657,
     "status": "ok",
     "timestamp": 1664677237354,
     "user": {
      "displayName": "昇暉王",
      "userId": "16691022060123284459"
     },
     "user_tz": -480
    },
    "id": "dPvnGcTyBckP"
   },
   "outputs": [],
   "source": [
    "from torch.utils import data\n",
    "from skimage import io\n",
    "import pandas\n",
    "\n",
    "class SportLoader(data.Dataset):\n",
    "    def __init__(self, mode, transform=None):\n",
    "        self.mode = mode\n",
    "        self.sport = pandas.read_csv(f\"{mode}.csv\")\n",
    "        self.img_name = []\n",
    "        self.label = []\n",
    "        self.transform = transform\n",
    "        \n",
    "        self.img_name = self.sport['names'].to_list()\n",
    "        self.label = self.sport['label'].to_list()\n",
    "        \n",
    "    def __len__(self):\n",
    "        return len(self.img_name)\n",
    "        \n",
    "    def __getitem__(self, index):\n",
    "        \n",
    "        image_path = f\"{self.mode}/{self.img_name[index]}\"\n",
    "        self.img = io.imread(image_path)#/255.0\n",
    "#         print((self.img))\n",
    "        self.target = self.label[index]\n",
    "        \n",
    "        if self.transform:\n",
    "            self.img = self.transform(self.img)\n",
    "        \n",
    "        return self.img, self.target\n"
   ]
  },
  {
   "cell_type": "code",
   "execution_count": null,
   "id": "f7c17935",
   "metadata": {
    "executionInfo": {
     "elapsed": 3,
     "status": "ok",
     "timestamp": 1664677237354,
     "user": {
      "displayName": "昇暉王",
      "userId": "16691022060123284459"
     },
     "user_tz": -480
    },
    "id": "f7c17935",
    "scrolled": true
   },
   "outputs": [],
   "source": [
    "from torch.utils.data import DataLoader\n",
    "from torchvision import transforms\n",
    "from PIL import Image\n",
    "\n",
    "mean = [0.5, 0.5, 0.5]\n",
    "std = [0.1, 0.1, 0.1]\n",
    "train_transforms = transforms.Compose([\n",
    "    \n",
    "    transforms.ToPILImage(),\n",
    "    transforms.RandomHorizontalFlip(p=0.5),\n",
    "    transforms.RandomRotation(5, expand=False, center=(112, 112)),\n",
    "    transforms.CenterCrop((210, 210)),\n",
    "    transforms.Resize((128, 128), transforms.InterpolationMode.BICUBIC),\n",
    "    transforms.ToTensor(),\n",
    "    transforms.Normalize(mean, std)\n",
    "])\n",
    "\n",
    "train_dataset = SportLoader(\"train\", transform=train_transforms)\n",
    "val_dataset = SportLoader(\"val\", transform=train_transforms)\n",
    "# test_dataset = SportLoader(\"test\")\n",
    "\n",
    "train_loader = DataLoader(train_dataset, batch_size=16, shuffle=True)\n",
    "val_loader = DataLoader(val_dataset, batch_size=16, shuffle=True)\n",
    "# test_loader = DataLoader(test_dataset, batch_size=64, shuffle=False)"
   ]
  },
  {
   "cell_type": "code",
   "execution_count": null,
   "id": "a8d43148",
   "metadata": {
    "executionInfo": {
     "elapsed": 4,
     "status": "ok",
     "timestamp": 1664677237355,
     "user": {
      "displayName": "昇暉王",
      "userId": "16691022060123284459"
     },
     "user_tz": -480
    },
    "id": "a8d43148"
   },
   "outputs": [],
   "source": [
    "# import random\n",
    "# import matplotlib.pyplot as plt\n",
    "\n",
    "\n",
    "# plt.imshow((train_loader.dataset[random.randint(0, len((train_loader.dataset)))])[0])\n"
   ]
  },
  {
   "cell_type": "code",
   "execution_count": 2,
   "id": "b6207927",
   "metadata": {
    "executionInfo": {
     "elapsed": 3,
     "status": "ok",
     "timestamp": 1664677237355,
     "user": {
      "displayName": "昇暉王",
      "userId": "16691022060123284459"
     },
     "user_tz": -480
    },
    "id": "b6207927"
   },
   "outputs": [],
   "source": [
    "import torch.nn as nn\n",
    "import torch.nn.functional as F\n",
    "\n",
    "class Network(nn.Module):\n",
    "    def __init__(self):\n",
    "        super(Network, self).__init__()\n",
    "        \n",
    "#         self.bn64 = nn.BatchNorm2d(64)\n",
    "#         self.bn128 = nn.BatchNorm2d(128)\n",
    "#         self.bn256 = nn.BatchNorm2d(256)\n",
    "#         self.bn512 = nn.BatchNorm2d(512)\n",
    "#         self.dt50 = nn.Dropout(0.5)\n",
    "#         self.dt40 = nn.Dropout(0.4)\n",
    "#         self.dt30 = nn.Dropout(0.3)\n",
    "#         self.dt20 = nn.Dropout(0.2)\n",
    "\n",
    "        self.conv1 = nn.Conv2d(in_channels=3, out_channels=32, kernel_size=3, stride=1, padding=1)\n",
    "#         self.conv2 = nn.Conv2d(in_channels=64, out_channels=64, kernel_size=3, stride=1, padding=1)\n",
    "        self.pool3 = nn.MaxPool2d(2, 2)\n",
    "        self.conv4 = nn.Conv2d(in_channels=32, out_channels=32, kernel_size=3, stride=1, padding=1)\n",
    "#         self.conv5 = nn.Conv2d(in_channels=128, out_channels=128, kernel_size=3, stride=1, padding=1)\n",
    "        self.pool6 = nn.MaxPool2d(2, 2)\n",
    "        self.conv7 = nn.Conv2d(in_channels=32, out_channels=16, kernel_size=3, stride=1, padding=1)\n",
    "#         self.conv8 = nn.Conv2d(in_channels=256, out_channels=256, kernel_size=3, stride=1, padding=1)\n",
    "#         self.conv9 = nn.Conv2d(in_channels=256, out_channels=256, kernel_size=3, stride=1, padding=1)\n",
    "#         self.conv10 = nn.Conv2d(in_channels=256, out_channels=256, kernel_size=3, stride=1, padding=1)\n",
    "        self.pool11 = nn.MaxPool2d(2, 2)\n",
    "        self.conv12 = nn.Conv2d(in_channels=16, out_channels=16, kernel_size=3, stride=1, padding=1)\n",
    "#         self.conv13 = nn.Conv2d(in_channels=512, out_channels=512, kernel_size=3, stride=1, padding=1)\n",
    "#         self.conv14 = nn.Conv2d(in_channels=512, out_channels=512, kernel_size=3, stride=1, padding=1)\n",
    "#         self.conv15 = nn.Conv2d(in_channels=512, out_channels=512, kernel_size=3, stride=1, padding=1)\n",
    "        self.pool16 = nn.MaxPool2d(2, 2)\n",
    "#         self.conv17 = nn.Conv2d(in_channels=512, out_channels=256, kernel_size=3, stride=1, padding=1)\n",
    "#         self.conv18 = nn.Conv2d(in_channels=512, out_channels=512, kernel_size=3, stride=1, padding=1)\n",
    "        self.conv19 = nn.Conv2d(in_channels=16, out_channels=32, kernel_size=3, stride=1, padding=1)\n",
    "#         self.conv20 = nn.Conv2d(in_channels=256, out_channels=256, kernel_size=3, stride=1, padding=1)\n",
    "        self.pool21 = nn.MaxPool2d(2, 2)\n",
    "        self.ftn1 = nn.Flatten()\n",
    "#         self.fc1 = nn.Linear(4096, 1000)\n",
    "#         self.fc2 = nn.Linear(2048, 1000)\n",
    "        self.fc3 = nn.Linear(512, 10)\n",
    "        \n",
    "    def forward(self, input):\n",
    "        output = F.relu((self.conv1(input)))\n",
    "#         output = F.relu(self.bn64(self.conv2(output)))\n",
    "        output = F.relu(self.pool3(output))\n",
    "\n",
    "        output = F.relu((self.conv4(output)))\n",
    "#         output = F.relu(self.bn128(self.conv5(output)))\n",
    "        output = F.relu(self.pool6(output))\n",
    "\n",
    "        output = F.relu((self.conv7(output)))\n",
    "#         output = F.relu(self.bn256(self.conv8(output)))\n",
    "#         output = F.relu(self.bn256(self.conv9(output)))\n",
    "#         output = F.relu(self.bn256(self.conv10(output)))\n",
    "        output = F.relu(self.pool11(output))\n",
    "    \n",
    "        output = F.relu((self.conv12(output)))\n",
    "#         output = F.relu(self.bn512(self.conv13(output)))\n",
    "#         output = F.relu(self.bn512(self.conv14(output)))\n",
    "#         output = F.relu(self.bn512(self.conv15(output)))\n",
    "        output = F.relu(self.pool16(output))\n",
    "    \n",
    "#         output = F.relu((self.conv17(output)))\n",
    "#         output = F.relu(self.bn512(self.conv18(output)))\n",
    "        output = F.relu((self.conv19(output)))\n",
    "#         output = F.relu(self.bn256(self.conv20(output)))\n",
    "        output = F.relu(self.pool21(output))\n",
    "#         print(output.size())\n",
    "#         output = output.view(output.size(0), -1)\n",
    "        output = self.ftn1(output)\n",
    "#         output = F.relu(self.dt30(self.fc1(output)))\n",
    "#         output = F.relu(self.dt20(self.fc2(output)))\n",
    "        output = self.fc3(output)\n",
    "        \n",
    "        return output"
   ]
  },
  {
   "cell_type": "code",
   "execution_count": null,
   "id": "27385d0a",
   "metadata": {
    "executionInfo": {
     "elapsed": 2,
     "status": "ok",
     "timestamp": 1664682830816,
     "user": {
      "displayName": "昇暉王",
      "userId": "16691022060123284459"
     },
     "user_tz": -480
    },
    "id": "27385d0a"
   },
   "outputs": [],
   "source": [
    "import torch\n",
    "from torch.autograd import Variable\n",
    "\n",
    "def fit_model(model, loss_func, optimizer, input_shape, num_epochs, train_loader, val_loader):\n",
    "    training_loss = []\n",
    "    training_accuracy = []\n",
    "    validation_loss = []\n",
    "    validation_accuracy = []\n",
    "    bestModelAcc = 0.0\n",
    "    bestModelepoch = 0\n",
    "\n",
    "    for epoch in range(num_epochs):\n",
    "        correct_train = 0\n",
    "        total_train = 0\n",
    "        model.train()\n",
    "        for i, (train_x, train_y) in enumerate(train_loader):\n",
    "            print(\"=\", end='', flush=True)\n",
    "            optimizer.zero_grad()\n",
    "#             print(\"tmp:\\n\", x[0,:,:,0])\n",
    "#             print(\"tmp:\\n\", x[0,:,:,1])\n",
    "#             print(\"tmp:\\n\", x[0,:,:,2])\n",
    "#             plt.imshow(x[0,:,:,0])\n",
    "#             plt.show()\n",
    "            \n",
    "            train_x = Variable(train_x.float())#.permute(0, 3, 1, 2))\n",
    "#             print(\"tmp:\\n\", train_x.size())\n",
    "#             plt.imshow(x[0, 0])\n",
    "#             plt.show()\n",
    "#             break\n",
    "            train_x, train_y = train_x.to('cuda'), train_y.to('cuda')\n",
    "            train_pred = model(train_x)\n",
    "            train_loss = loss_func(train_pred, train_y)\n",
    "            train_loss.backward()\n",
    "            optimizer.step()\n",
    "            \n",
    "            predicted = torch.max(train_pred.data, 1)[1]\n",
    "            total_train += len(train_y)\n",
    "            correct_train += (predicted == train_y).float().sum()\n",
    "        train_accuracy = 100 * correct_train / float(total_train)\n",
    "        training_accuracy.append(train_accuracy)\n",
    "        training_loss.append(train_loss.data)\n",
    "        \n",
    "        correct_val = 0\n",
    "        total_val = 0\n",
    "        model.eval()\n",
    "        torch.no_grad()\n",
    "        for i, (val_x, val_y) in enumerate(val_loader):\n",
    "            val_x = Variable(val_x.float())#.permute(0, 3, 1, 2))\n",
    "            val_x, val_y = val_x.to('cuda'), val_y.to('cuda')\n",
    "            val_pred = model(val_x)\n",
    "            val_loss = loss_func(val_pred, val_y)\n",
    "            predicted = torch.max(val_pred.data, 1)[1]\n",
    "            total_val += len(val_y)\n",
    "            correct_val += (predicted == val_y).float().sum()\n",
    "        \n",
    "        val_accuracy = 100 * correct_val / float(total_val)\n",
    "        validation_accuracy.append(val_accuracy)\n",
    "        \n",
    "        if val_accuracy > bestModelAcc:\n",
    "            bestModelAcc = val_accuracy\n",
    "            bestModelepoch = epoch+1\n",
    "            torch.save(model.state_dict(), f\"./models/best.pt\")\n",
    "        \n",
    "        validation_loss.append(val_loss.data)\n",
    "        print('\\nTrain Epoch: {}/{} Traing_Loss: {:.3f} Traing_acc: {:.3f}% Val_Loss: {:.3f} Val_accuracy: {:.3f}%'.format(epoch+1, num_epochs, train_loss.data, train_accuracy, val_loss.data, val_accuracy))\n",
    "    \n",
    "    print(f\"Best Acc: {bestModelAcc}\\nEpoch: {bestModelepoch}\")\n",
    "    \n",
    "    return training_loss, training_accuracy, validation_loss, validation_accuracy\n",
    "            "
   ]
  },
  {
   "cell_type": "code",
   "execution_count": 7,
   "id": "a30115cb",
   "metadata": {
    "executionInfo": {
     "elapsed": 1315,
     "status": "ok",
     "timestamp": 1664682832598,
     "user": {
      "displayName": "昇暉王",
      "userId": "16691022060123284459"
     },
     "user_tz": -480
    },
    "id": "a30115cb"
   },
   "outputs": [],
   "source": [
    "model = Network().to('cuda')\n",
    "loss_func = nn.CrossEntropyLoss()\n",
    "optimizer = torch.optim.SGD(model.parameters(), lr=0.008, momentum=0.5)\n",
    "# optimizer = torch.optim.Adam(model.parameters(), lr=0.05, weight_decay=0.001)\n",
    "input_shape = (-1,3,128,128)\n",
    "num_epochs = 150\n"
   ]
  },
  {
   "cell_type": "code",
   "execution_count": 8,
   "id": "7ce52328",
   "metadata": {
    "colab": {
     "base_uri": "https://localhost:8080/"
    },
    "executionInfo": {
     "elapsed": 2,
     "status": "ok",
     "timestamp": 1664682659557,
     "user": {
      "displayName": "昇暉王",
      "userId": "16691022060123284459"
     },
     "user_tz": -480
    },
    "id": "7ce52328",
    "outputId": "a3a716c8-75e2-4e83-c585-8fdc3a53a64f",
    "scrolled": false
   },
   "outputs": [
    {
     "name": "stdout",
     "output_type": "stream",
     "text": [
      "----------------------------------------------------------------\n",
      "        Layer (type)               Output Shape         Param #\n",
      "================================================================\n",
      "            Conv2d-1         [-1, 32, 128, 128]             896\n",
      "         MaxPool2d-2           [-1, 32, 64, 64]               0\n",
      "            Conv2d-3           [-1, 32, 64, 64]           9,248\n",
      "         MaxPool2d-4           [-1, 32, 32, 32]               0\n",
      "            Conv2d-5           [-1, 16, 32, 32]           4,624\n",
      "         MaxPool2d-6           [-1, 16, 16, 16]               0\n",
      "            Conv2d-7           [-1, 16, 16, 16]           2,320\n",
      "         MaxPool2d-8             [-1, 16, 8, 8]               0\n",
      "            Conv2d-9             [-1, 32, 8, 8]           4,640\n",
      "        MaxPool2d-10             [-1, 32, 4, 4]               0\n",
      "          Flatten-11                  [-1, 512]               0\n",
      "           Linear-12                   [-1, 10]           5,130\n",
      "================================================================\n",
      "Total params: 26,858\n",
      "Trainable params: 26,858\n",
      "Non-trainable params: 0\n",
      "----------------------------------------------------------------\n",
      "Input size (MB): 0.19\n",
      "Forward/backward pass size (MB): 6.47\n",
      "Params size (MB): 0.10\n",
      "Estimated Total Size (MB): 6.76\n",
      "----------------------------------------------------------------\n"
     ]
    }
   ],
   "source": [
    "from torchsummary import summary\n",
    "summary(model, (3, 128, 128))"
   ]
  },
  {
   "cell_type": "code",
   "execution_count": null,
   "id": "1f5d5b2c",
   "metadata": {
    "colab": {
     "base_uri": "https://localhost:8080/"
    },
    "executionInfo": {
     "elapsed": 2,
     "status": "ok",
     "timestamp": 1664682660041,
     "user": {
      "displayName": "昇暉王",
      "userId": "16691022060123284459"
     },
     "user_tz": -480
    },
    "id": "1f5d5b2c",
    "outputId": "d9e2268e-9882-49c2-c3c9-c915f358ed67",
    "scrolled": true
   },
   "outputs": [],
   "source": [
    "number_of_params = sum(p.numel() for p in model.parameters() if p.requires_grad)\n",
    "number_of_params"
   ]
  },
  {
   "cell_type": "code",
   "execution_count": null,
   "id": "ae69ce43",
   "metadata": {
    "colab": {
     "base_uri": "https://localhost:8080/",
     "height": 583
    },
    "executionInfo": {
     "elapsed": 477,
     "status": "error",
     "timestamp": 1664682835011,
     "user": {
      "displayName": "昇暉王",
      "userId": "16691022060123284459"
     },
     "user_tz": -480
    },
    "id": "ae69ce43",
    "outputId": "67245dd2-e8fb-47b9-afdd-6a1521dbaabd",
    "scrolled": true
   },
   "outputs": [],
   "source": [
    "training_loss, training_accuracy, validation_loss, validation_accuracy = fit_model(model, loss_func, optimizer, input_shape, num_epochs, train_loader, val_loader)"
   ]
  },
  {
   "cell_type": "code",
   "execution_count": null,
   "id": "fd1gYEznXpV7",
   "metadata": {
    "executionInfo": {
     "elapsed": 699,
     "status": "ok",
     "timestamp": 1664682209930,
     "user": {
      "displayName": "昇暉王",
      "userId": "16691022060123284459"
     },
     "user_tz": -480
    },
    "id": "fd1gYEznXpV7"
   },
   "outputs": [],
   "source": [
    "# torch.save(model.state_dict(), f\"./models/r.pt\")\n",
    "# torch.save(model.state_dict(), f\"/content/drive/MyDrive/hw1/models/a.pt\")"
   ]
  },
  {
   "cell_type": "code",
   "execution_count": null,
   "id": "7f639c2a",
   "metadata": {
    "colab": {
     "base_uri": "https://localhost:8080/",
     "height": 669
    },
    "executionInfo": {
     "elapsed": 494,
     "status": "error",
     "timestamp": 1664682401644,
     "user": {
      "displayName": "昇暉王",
      "userId": "16691022060123284459"
     },
     "user_tz": -480
    },
    "id": "7f639c2a",
    "outputId": "8ea47f3f-0855-4e3c-edc7-b44d1bcd9e38"
   },
   "outputs": [],
   "source": [
    "import matplotlib.pyplot as plt\n",
    "\n",
    "for i in range(len(training_loss)):\n",
    "    training_loss[i] = training_loss[i].tolist()\n",
    "    training_accuracy[i] = training_accuracy[i].tolist()\n",
    "    validation_loss[i] = validation_loss[i].tolist()\n",
    "    validation_accuracy[i] = validation_accuracy[i].tolist()\n",
    "\n",
    "# visualization\n",
    "plt.plot(range(num_epochs), training_loss, 'b-', label='Training_loss')\n",
    "plt.plot(range(num_epochs), validation_loss, 'g-', label='validation_loss')\n",
    "plt.title('Training & Validation loss')\n",
    "plt.xlabel('Number of epochs')\n",
    "plt.ylabel('Loss')\n",
    "plt.legend()\n",
    "plt.show()\n",
    "plt.plot(range(num_epochs), training_accuracy, 'b-', label='Training_accuracy')\n",
    "plt.plot(range(num_epochs), validation_accuracy, 'g-', label='Validation_accuracy')\n",
    "plt.title('Training & Validation accuracy')\n",
    "plt.xlabel('Number of epochs')\n",
    "plt.ylabel('Accuracy')\n",
    "plt.legend()\n",
    "plt.show()"
   ]
  },
  {
   "cell_type": "code",
   "execution_count": 5,
   "id": "88cJ4ZyDHdF4",
   "metadata": {
    "id": "88cJ4ZyDHdF4"
   },
   "outputs": [
    {
     "data": {
      "text/plain": [
       "Network(\n",
       "  (conv1): Conv2d(3, 32, kernel_size=(3, 3), stride=(1, 1), padding=(1, 1))\n",
       "  (pool3): MaxPool2d(kernel_size=2, stride=2, padding=0, dilation=1, ceil_mode=False)\n",
       "  (conv4): Conv2d(32, 32, kernel_size=(3, 3), stride=(1, 1), padding=(1, 1))\n",
       "  (pool6): MaxPool2d(kernel_size=2, stride=2, padding=0, dilation=1, ceil_mode=False)\n",
       "  (conv7): Conv2d(32, 16, kernel_size=(3, 3), stride=(1, 1), padding=(1, 1))\n",
       "  (pool11): MaxPool2d(kernel_size=2, stride=2, padding=0, dilation=1, ceil_mode=False)\n",
       "  (conv12): Conv2d(16, 16, kernel_size=(3, 3), stride=(1, 1), padding=(1, 1))\n",
       "  (pool16): MaxPool2d(kernel_size=2, stride=2, padding=0, dilation=1, ceil_mode=False)\n",
       "  (conv19): Conv2d(16, 32, kernel_size=(3, 3), stride=(1, 1), padding=(1, 1))\n",
       "  (pool21): MaxPool2d(kernel_size=2, stride=2, padding=0, dilation=1, ceil_mode=False)\n",
       "  (ftn1): Flatten(start_dim=1, end_dim=-1)\n",
       "  (fc3): Linear(in_features=512, out_features=10, bias=True)\n",
       ")"
      ]
     },
     "execution_count": 5,
     "metadata": {},
     "output_type": "execute_result"
    }
   ],
   "source": [
    "import torch\n",
    "\n",
    "model = Network()\n",
    "model.load_state_dict(torch.load(\"./hw1_final/HW1_311551144.pt\"))\n",
    "model.eval()"
   ]
  },
  {
   "cell_type": "code",
   "execution_count": null,
   "id": "e123c229",
   "metadata": {},
   "outputs": [],
   "source": [
    "# for p in model.parameters():\n",
    "#     if p.requires_grad:\n",
    "#         print(p.numel())\n"
   ]
  }
 ],
 "metadata": {
  "accelerator": "GPU",
  "colab": {
   "collapsed_sections": [],
   "provenance": []
  },
  "kernelspec": {
   "display_name": "Python 3 (ipykernel)",
   "language": "python",
   "name": "python3"
  },
  "language_info": {
   "codemirror_mode": {
    "name": "ipython",
    "version": 3
   },
   "file_extension": ".py",
   "mimetype": "text/x-python",
   "name": "python",
   "nbconvert_exporter": "python",
   "pygments_lexer": "ipython3",
   "version": "3.8.13"
  }
 },
 "nbformat": 4,
 "nbformat_minor": 5
}
