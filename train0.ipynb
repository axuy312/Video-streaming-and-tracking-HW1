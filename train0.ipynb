{
 "cells": [
  {
   "cell_type": "code",
   "execution_count": 1,
   "id": "b8d84e25",
   "metadata": {},
   "outputs": [],
   "source": [
    "from torch.utils import data\n",
    "from skimage import io\n",
    "import pandas\n",
    "\n",
    "class SportLoader(data.Dataset):\n",
    "    def __init__(self, mode, transform=None):\n",
    "        self.mode = mode\n",
    "        self.sport = pandas.read_csv(f\"{mode}.csv\")\n",
    "        self.img_name = []\n",
    "        self.label = []\n",
    "        self.transform = transform\n",
    "        \n",
    "        self.img_name = self.sport['names'].to_list()\n",
    "        self.label = self.sport['label'].to_list()\n",
    "        \n",
    "    def __len__(self):\n",
    "        return len(self.img_name)\n",
    "        \n",
    "    def __getitem__(self, index):\n",
    "        \n",
    "        image_path = f\"{self.mode}/{self.img_name[index]}\"\n",
    "        self.img = io.imread(image_path)\n",
    "        self.target = self.label[index]\n",
    "        \n",
    "        if self.transform:\n",
    "            self.img = self.transform(self.img)\n",
    "        \n",
    "        return self.img, self.target\n"
   ]
  },
  {
   "cell_type": "code",
   "execution_count": 2,
   "id": "f7c17935",
   "metadata": {
    "scrolled": true
   },
   "outputs": [],
   "source": [
    "from torch.utils.data import DataLoader\n",
    "from torchvision import transforms\n",
    "\n",
    "train_transforms = transforms.Compose([\n",
    "    \n",
    "    transforms.ToPILImage() ,\n",
    "    transforms.Resize((96, 96), transforms.InterpolationMode.BICUBIC),\n",
    "    transforms.ToTensor()\n",
    "])\n",
    "\n",
    "train_dataset = SportLoader(\"train\", transform=None)\n",
    "val_dataset = SportLoader(\"val\", transform=None)\n",
    "# test_dataset = SportLoader(\"test\")\n",
    "\n",
    "train_loader = DataLoader(train_dataset, batch_size=64, shuffle=True)\n",
    "val_loader = DataLoader(val_dataset, batch_size=64, shuffle=True)\n",
    "# test_loader = DataLoader(test_dataset, batch_size=64, shuffle=False)"
   ]
  },
  {
   "cell_type": "code",
   "execution_count": 3,
   "id": "a8d43148",
   "metadata": {},
   "outputs": [],
   "source": [
    "# import random\n",
    "# import matplotlib.pyplot as plt\n",
    "\n",
    "\n",
    "# plt.imshow((train_loader.dataset[random.randint(0, len((train_loader.dataset)))])[0])\n"
   ]
  },
  {
   "cell_type": "code",
   "execution_count": 13,
   "id": "b6207927",
   "metadata": {},
   "outputs": [],
   "source": [
    "import torch.nn as nn\n",
    "import torch.nn.functional as F\n",
    "\n",
    "class Network(nn.Module):\n",
    "    def __init__(self):\n",
    "        super(Network, self).__init__()\n",
    "        \n",
    "        self.conv1 = nn.Conv2d(in_channels=3, out_channels=64, kernel_size=3, stride=1, padding=1)\n",
    "        self.conv2 = nn.Conv2d(in_channels=64, out_channels=64, kernel_size=3, stride=1, padding=1)\n",
    "        self.pool = nn.MaxPool2d(2, 2)\n",
    "        self.conv4 = nn.Conv2d(in_channels=64, out_channels=128, kernel_size=3, stride=1, padding=1)\n",
    "        self.conv5 = nn.Conv2d(in_channels=128, out_channels=128, kernel_size=3, stride=1, padding=1)\n",
    "        self.pool6 = nn.MaxPool2d(2, 2)\n",
    "        self.conv7 = nn.Conv2d(in_channels=128, out_channels=128, kernel_size=3, stride=1, padding=1)\n",
    "        self.conv8 = nn.Conv2d(in_channels=128, out_channels=128, kernel_size=3, stride=1, padding=1)\n",
    "        self.conv9 = nn.Conv2d(in_channels=128, out_channels=128, kernel_size=3, stride=1, padding=1)\n",
    "        self.pool10 = nn.MaxPool2d(2, 2)\n",
    "        self.conv11 = nn.Conv2d(in_channels=128, out_channels=128, kernel_size=3, stride=1, padding=1)\n",
    "        self.conv12 = nn.Conv2d(in_channels=128, out_channels=128, kernel_size=3, stride=1, padding=1)\n",
    "        self.conv13 = nn.Conv2d(in_channels=128, out_channels=128, kernel_size=3, stride=1, padding=1)\n",
    "        self.pool14 = nn.MaxPool2d(2, 2)\n",
    "        self.ftn1 = nn.Flatten()\n",
    "        self.fc1 = nn.Linear(25088, 1024)\n",
    "        self.fc2 = nn.Linear(1024, 10)\n",
    "        \n",
    "    def forward(self, input):\n",
    "        output = F.relu(self.conv1(input))\n",
    "        output = F.relu(self.conv2(output))\n",
    "        output = F.relu(self.pool(output))\n",
    "        output = F.relu(self.conv4(output))\n",
    "        output = F.relu(self.conv5(output))\n",
    "        output = F.relu(self.pool6(output))\n",
    "        output = F.relu(self.conv7(output))\n",
    "        output = F.relu(self.conv8(output))\n",
    "        output = F.relu(self.conv9(output))\n",
    "        output = F.relu(self.pool10(output))\n",
    "        output = F.relu(self.conv11(output))\n",
    "        output = F.relu(self.conv12(output))\n",
    "        output = F.relu(self.conv13(output))\n",
    "        output = F.relu(self.pool14(output))\n",
    "#         print(output.size())\n",
    "        output = output.view(output.size(0), -1)\n",
    "#         output = self.ftn1(output)\n",
    "        output = self.fc1(output)\n",
    "        output = self.fc2(output)\n",
    "        \n",
    "        return output"
   ]
  },
  {
   "cell_type": "code",
   "execution_count": 14,
   "id": "27385d0a",
   "metadata": {},
   "outputs": [],
   "source": [
    "import torch\n",
    "from torch.autograd import Variable\n",
    "\n",
    "def fit_model(model, loss_func, optimizer, input_shape, num_epochs, train_loader, val_loader):\n",
    "    training_loss = []\n",
    "    training_accuracy = []\n",
    "    validation_loss = []\n",
    "    validation_accuracy = []\n",
    "\n",
    "    for epoch in range(num_epochs):\n",
    "        correct_train = 0\n",
    "        total_train = 0\n",
    "#         model.train()\n",
    "        for i, (x, y) in enumerate(train_loader):\n",
    "            optimizer.zero_grad()\n",
    "            x = Variable(x.float().view(input_shape))\n",
    "#             x, y = x.to('cuda'), y.to('cuda')\n",
    "            pred = model(x)\n",
    "            train_loss = loss_func(pred, y)\n",
    "            train_loss.backward()\n",
    "            optimizer.step()\n",
    "            \n",
    "            predicted = torch.max(pred.data, 1)[1]\n",
    "            total_train += len(y)\n",
    "            correct_train += (predicted == y).float().sum()\n",
    "        train_accuracy = 100 * correct_train / float(total_train)\n",
    "        training_accuracy.append(train_accuracy)\n",
    "        training_loss.append(train_loss.data)\n",
    "        \n",
    "        correct_val = 0\n",
    "        total_val = 0\n",
    "        for i, (x, y) in enumerate(val_loader):\n",
    "            x = Variable(x.float().view(input_shape))\n",
    "#             x, y = x.to('cuda'), y.to('cuda')\n",
    "            pred = model(x)\n",
    "            val_loss = loss_func(pred, y)\n",
    "            \n",
    "            predicted = torch.max(pred.data, 1)[1]\n",
    "            total_val += len(y)\n",
    "            correct_val += (predicted == y).float().sum()\n",
    "        \n",
    "        val_accuracy = 100 * correct_val / float(total_val)\n",
    "        validation_accuracy.append(val_accuracy)\n",
    "        \n",
    "        validation_loss.append(val_loss.data)\n",
    "        print('Train Epoch: {}/{} Traing_Loss: {} Traing_acc: {:.6f}% Val_Loss: {} Val_accuracy: {:.6f}%'.format(epoch+1, num_epochs, train_loss.data, train_accuracy, val_loss.data, val_accuracy))\n",
    "    return training_loss, training_accuracy, validation_loss, validation_accuracy\n",
    "            "
   ]
  },
  {
   "cell_type": "code",
   "execution_count": 15,
   "id": "a30115cb",
   "metadata": {},
   "outputs": [],
   "source": [
    "model = Network()#.to('cuda')\n",
    "loss_func = nn.CrossEntropyLoss()\n",
    "optimizer = torch.optim.SGD(model.parameters(), lr=0.01, momentum=0.9)\n",
    "input_shape = (-1,3,224,224)\n",
    "num_epochs = 10\n"
   ]
  },
  {
   "cell_type": "code",
   "execution_count": 8,
   "id": "7ce52328",
   "metadata": {},
   "outputs": [
    {
     "ename": "ModuleNotFoundError",
     "evalue": "No module named 'torchsummary'",
     "output_type": "error",
     "traceback": [
      "\u001b[1;31m---------------------------------------------------------------------------\u001b[0m",
      "\u001b[1;31mModuleNotFoundError\u001b[0m                       Traceback (most recent call last)",
      "Input \u001b[1;32mIn [8]\u001b[0m, in \u001b[0;36m<cell line: 1>\u001b[1;34m()\u001b[0m\n\u001b[1;32m----> 1\u001b[0m \u001b[38;5;28;01mfrom\u001b[39;00m \u001b[38;5;21;01mtorchsummary\u001b[39;00m \u001b[38;5;28;01mimport\u001b[39;00m summary\n\u001b[0;32m      2\u001b[0m summary(model, (\u001b[38;5;241m3\u001b[39m, \u001b[38;5;241m96\u001b[39m, \u001b[38;5;241m96\u001b[39m))\n",
      "\u001b[1;31mModuleNotFoundError\u001b[0m: No module named 'torchsummary'"
     ]
    }
   ],
   "source": [
    "from torchsummary import summary\n",
    "summary(model, (3, 96, 96))"
   ]
  },
  {
   "cell_type": "code",
   "execution_count": null,
   "id": "1f5d5b2c",
   "metadata": {},
   "outputs": [],
   "source": [
    "number_of_params = sum(p.numel() for p in model.parameters() if p.requires_grad)\n",
    "number_of_params"
   ]
  },
  {
   "cell_type": "code",
   "execution_count": 16,
   "id": "ae69ce43",
   "metadata": {
    "scrolled": true
   },
   "outputs": [
    {
     "name": "stdout",
     "output_type": "stream",
     "text": [
      "Train Epoch: 1/10 Traing_Loss: 2.2820355892181396 Traing_acc: 10.588235% Val_Loss: 2.303558826446533 Val_accuracy: 11.228070%\n",
      "Train Epoch: 2/10 Traing_Loss: 2.2439920902252197 Traing_acc: 10.823529% Val_Loss: 2.273444890975952 Val_accuracy: 12.280702%\n",
      "Train Epoch: 3/10 Traing_Loss: 2.2660796642303467 Traing_acc: 12.470589% Val_Loss: 2.2417891025543213 Val_accuracy: 12.280702%\n",
      "Train Epoch: 4/10 Traing_Loss: 2.351522445678711 Traing_acc: 12.470589% Val_Loss: 2.2622358798980713 Val_accuracy: 12.280702%\n",
      "Train Epoch: 5/10 Traing_Loss: 2.199739694595337 Traing_acc: 14.705882% Val_Loss: 2.2761425971984863 Val_accuracy: 11.578947%\n",
      "Train Epoch: 6/10 Traing_Loss: 2.293084144592285 Traing_acc: 12.235294% Val_Loss: 2.2922165393829346 Val_accuracy: 12.280702%\n",
      "Train Epoch: 7/10 Traing_Loss: 2.3103654384613037 Traing_acc: 13.647058% Val_Loss: 2.2510457038879395 Val_accuracy: 16.491228%\n",
      "Train Epoch: 8/10 Traing_Loss: 2.0967235565185547 Traing_acc: 15.647058% Val_Loss: 2.2243213653564453 Val_accuracy: 16.491228%\n",
      "Train Epoch: 9/10 Traing_Loss: 2.234510898590088 Traing_acc: 13.411765% Val_Loss: 2.2598841190338135 Val_accuracy: 12.280702%\n",
      "Train Epoch: 10/10 Traing_Loss: 2.262751579284668 Traing_acc: 15.176471% Val_Loss: 2.240907907485962 Val_accuracy: 17.543859%\n"
     ]
    }
   ],
   "source": [
    "training_loss, training_accuracy, validation_loss, validation_accuracy = fit_model(model, loss_func, optimizer, input_shape, num_epochs, train_loader, val_loader)"
   ]
  },
  {
   "cell_type": "code",
   "execution_count": 9,
   "id": "7f639c2a",
   "metadata": {},
   "outputs": [
    {
     "ename": "NameError",
     "evalue": "name 'training_loss' is not defined",
     "output_type": "error",
     "traceback": [
      "\u001b[1;31m---------------------------------------------------------------------------\u001b[0m",
      "\u001b[1;31mNameError\u001b[0m                                 Traceback (most recent call last)",
      "Input \u001b[1;32mIn [9]\u001b[0m, in \u001b[0;36m<cell line: 4>\u001b[1;34m()\u001b[0m\n\u001b[0;32m      1\u001b[0m \u001b[38;5;28;01mimport\u001b[39;00m \u001b[38;5;21;01mmatplotlib\u001b[39;00m\u001b[38;5;21;01m.\u001b[39;00m\u001b[38;5;21;01mpyplot\u001b[39;00m \u001b[38;5;28;01mas\u001b[39;00m \u001b[38;5;21;01mplt\u001b[39;00m\n\u001b[0;32m      3\u001b[0m \u001b[38;5;66;03m# visualization\u001b[39;00m\n\u001b[1;32m----> 4\u001b[0m plt\u001b[38;5;241m.\u001b[39mplot(\u001b[38;5;28mrange\u001b[39m(num_epochs), \u001b[43mtraining_loss\u001b[49m, \u001b[38;5;124m'\u001b[39m\u001b[38;5;124mb-\u001b[39m\u001b[38;5;124m'\u001b[39m, label\u001b[38;5;241m=\u001b[39m\u001b[38;5;124m'\u001b[39m\u001b[38;5;124mTraining_loss\u001b[39m\u001b[38;5;124m'\u001b[39m)\n\u001b[0;32m      5\u001b[0m plt\u001b[38;5;241m.\u001b[39mplot(\u001b[38;5;28mrange\u001b[39m(num_epochs), validation_loss, \u001b[38;5;124m'\u001b[39m\u001b[38;5;124mg-\u001b[39m\u001b[38;5;124m'\u001b[39m, label\u001b[38;5;241m=\u001b[39m\u001b[38;5;124m'\u001b[39m\u001b[38;5;124mvalidation_loss\u001b[39m\u001b[38;5;124m'\u001b[39m)\n\u001b[0;32m      6\u001b[0m plt\u001b[38;5;241m.\u001b[39mtitle(\u001b[38;5;124m'\u001b[39m\u001b[38;5;124mTraining & Validation loss\u001b[39m\u001b[38;5;124m'\u001b[39m)\n",
      "\u001b[1;31mNameError\u001b[0m: name 'training_loss' is not defined"
     ]
    }
   ],
   "source": [
    "import matplotlib.pyplot as plt\n",
    "\n",
    "# visualization\n",
    "plt.plot(range(num_epochs), training_loss, 'b-', label='Training_loss')\n",
    "plt.plot(range(num_epochs), validation_loss, 'g-', label='validation_loss')\n",
    "plt.title('Training & Validation loss')\n",
    "plt.xlabel('Number of epochs')\n",
    "plt.ylabel('Loss')\n",
    "plt.legend()\n",
    "plt.show()\n",
    "plt.plot(range(num_epochs), training_accuracy, 'b-', label='Training_accuracy')\n",
    "plt.plot(range(num_epochs), validation_accuracy, 'g-', label='Validation_accuracy')\n",
    "plt.title('Training & Validation accuracy')\n",
    "plt.xlabel('Number of epochs')\n",
    "plt.ylabel('Accuracy')\n",
    "plt.legend()\n",
    "plt.show()"
   ]
  },
  {
   "cell_type": "code",
   "execution_count": null,
   "id": "efe31921",
   "metadata": {},
   "outputs": [],
   "source": []
  }
 ],
 "metadata": {
  "kernelspec": {
   "display_name": "Python 3 (ipykernel)",
   "language": "python",
   "name": "python3"
  },
  "language_info": {
   "codemirror_mode": {
    "name": "ipython",
    "version": 3
   },
   "file_extension": ".py",
   "mimetype": "text/x-python",
   "name": "python",
   "nbconvert_exporter": "python",
   "pygments_lexer": "ipython3",
   "version": "3.8.13"
  }
 },
 "nbformat": 4,
 "nbformat_minor": 5
}
